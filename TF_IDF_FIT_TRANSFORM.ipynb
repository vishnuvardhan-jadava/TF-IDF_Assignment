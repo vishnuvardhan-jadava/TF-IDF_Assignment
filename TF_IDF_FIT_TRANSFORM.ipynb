{
  "nbformat": 4,
  "nbformat_minor": 0,
  "metadata": {
    "colab": {
      "name": "TF_IDF-FIT-TRANSFORM.ipynb",
      "provenance": [],
      "collapsed_sections": [],
      "authorship_tag": "ABX9TyMA/JvQ1O2eT0SGPNWsOkQS",
      "include_colab_link": true
    },
    "kernelspec": {
      "name": "python3",
      "display_name": "Python 3"
    },
    "language_info": {
      "name": "python"
    }
  },
  "cells": [
    {
      "cell_type": "markdown",
      "metadata": {
        "id": "view-in-github",
        "colab_type": "text"
      },
      "source": [
        "<a href=\"https://colab.research.google.com/github/vishnuvardhan-jadava/TF-IDF_Assignment/blob/main/TF_IDF_FIT_TRANSFORM.ipynb\" target=\"_parent\"><img src=\"https://colab.research.google.com/assets/colab-badge.svg\" alt=\"Open In Colab\"/></a>"
      ]
    },
    {
      "cell_type": "code",
      "metadata": {
        "id": "UCrprPHYrhxP"
      },
      "source": [
        "#importing modules\n",
        "\n",
        "from collections import Counter\n",
        "from tqdm import tqdm\n",
        "from scipy.sparse import csr_matrix\n",
        "import math\n",
        "import operator\n",
        "from sklearn.preprocessing import normalize\n",
        "import numpy"
      ],
      "execution_count": 1,
      "outputs": []
    },
    {
      "cell_type": "code",
      "metadata": {
        "id": "RdIVtqW8rrGZ"
      },
      "source": [
        "# Collection of string documents - Corpus\n",
        "\n",
        "corpus = [\n",
        "     'this is the first document',\n",
        "     'this document is the second document',\n",
        "     'and this is the third one',\n",
        "     'is this the first document',\n",
        "]"
      ],
      "execution_count": 2,
      "outputs": []
    },
    {
      "cell_type": "code",
      "metadata": {
        "id": "USctgSgqsa5_",
        "colab": {
          "base_uri": "https://localhost:8080/"
        },
        "outputId": "dbc56f76-8583-4c1d-a97b-cb449742faf3"
      },
      "source": [
        "corpus"
      ],
      "execution_count": 3,
      "outputs": [
        {
          "output_type": "execute_result",
          "data": {
            "text/plain": [
              "['this is the first document',\n",
              " 'this document is the second document',\n",
              " 'and this is the third one',\n",
              " 'is this the first document']"
            ]
          },
          "metadata": {
            "tags": []
          },
          "execution_count": 3
        }
      ]
    },
    {
      "cell_type": "code",
      "metadata": {
        "id": "dFFg77xrVbgd"
      },
      "source": [
        "def fit(corpus):\n",
        "\n",
        "  \"\"\"fit method for TFIDF that returns vocab in alphabetically sorted order\"\"\"\n",
        "  uniq_words = set() #set of unique words\n",
        "  if isinstance(corpus,(list)):\n",
        "    for sent in corpus:\n",
        "      for word in sent.split(' '):\n",
        "        if len(word) < 2:\n",
        "          continue\n",
        "        uniq_words.add(word)\n",
        "    uniq_words=sorted(uniq_words)\n",
        "    vocab = {j:i for i,j in enumerate(uniq_words)}\n",
        "    return vocab\n",
        "  else:\n",
        "    return 'pass a list'"
      ],
      "execution_count": 4,
      "outputs": []
    },
    {
      "cell_type": "code",
      "metadata": {
        "id": "YY8U4BkWrDCq"
      },
      "source": [
        "def find_idf_Val(word):\n",
        "  \"\"\"returns the count of the appearance of given string in the corpus\"\"\"\n",
        "  if word.isalpha():\n",
        "    count=0\n",
        "    for i in corpus:\n",
        "      if word in i.split():\n",
        "        count+=1\n",
        "    return count\n",
        "  else:\n",
        "    return 'passed vales is not string'"
      ],
      "execution_count": 5,
      "outputs": []
    },
    {
      "cell_type": "code",
      "metadata": {
        "id": "6LtArL7gVuXc"
      },
      "source": [
        "def transform(corpus,vocab):\n",
        "  \"\"\"transform method for TFIDF which returns normalized(l2) sparse matrix of TF-IDF\"\"\"\n",
        "  row = []\n",
        "  col = []\n",
        "  tf_idf_li = []\n",
        "  if isinstance(corpus,(list)):\n",
        "    for row_idx,sent in enumerate(corpus):\n",
        "      word_freq = dict(Counter(sent.split()))\n",
        "      for word,w_freq in word_freq.items():\n",
        "        col_idx = vocab.get(word,-1)\n",
        "        if col_idx != -1:\n",
        "          row.append(row_idx)\n",
        "          col.append(col_idx)\n",
        "          #print(f'word is ~~{word}~~, in the sentence ~~{sent}~~')\n",
        "          tf=word_freq[word]/len(sent.split()) #calculating TF value\n",
        "          idf= 1+ math.log((1+len(corpus))/(1+find_idf_Val(word))) #calculating IDF value\n",
        "          tf_idf_li.append(tf*idf) #TFIDF values\n",
        "          #tf_idf_li.append((word_freq[word]/len(sent.split()))*(1+ math.log((1+len(corpus))/(1+find_idf_Val(word)))))\n",
        "          #print(f'word is ~~{word}~~, in the sentence ~~{sent}~~ and idf is {idf}')\n",
        "          #print(f'tf value is {tf} and idf value is {idf} with tfidf value as : {tf*idf}')  \n",
        "      #print('****************************'*4)\n",
        "    return normalize(csr_matrix((tf_idf_li,(row,col)),shape=(len(corpus),len(vocab))),norm='l2') #normalizing(l2) sparsematrix of TFIDF\n",
        "  else:\n",
        "    return 'pass a list'"
      ],
      "execution_count": 9,
      "outputs": []
    },
    {
      "cell_type": "code",
      "metadata": {
        "colab": {
          "base_uri": "https://localhost:8080/"
        },
        "id": "2RtIBLE3w7Qv",
        "outputId": "718c9a8c-0c4c-423a-c22e-7ae1f9723af0"
      },
      "source": [
        "#applying fit and transform on corpus\n",
        "vocab = fit(corpus)\n",
        "vec = transform(corpus,vocab)\n",
        "print(vec)"
      ],
      "execution_count": 10,
      "outputs": [
        {
          "output_type": "stream",
          "text": [
            "  (0, 1)\t0.4697913855799205\n",
            "  (0, 2)\t0.580285823684436\n",
            "  (0, 3)\t0.3840852409148149\n",
            "  (0, 6)\t0.3840852409148149\n",
            "  (0, 8)\t0.3840852409148149\n",
            "  (1, 1)\t0.6876235979836937\n",
            "  (1, 3)\t0.2810886740337529\n",
            "  (1, 5)\t0.5386476208856762\n",
            "  (1, 6)\t0.2810886740337529\n",
            "  (1, 8)\t0.2810886740337529\n",
            "  (2, 0)\t0.511848512707169\n",
            "  (2, 3)\t0.267103787642168\n",
            "  (2, 4)\t0.511848512707169\n",
            "  (2, 6)\t0.267103787642168\n",
            "  (2, 7)\t0.511848512707169\n",
            "  (2, 8)\t0.267103787642168\n",
            "  (3, 1)\t0.4697913855799205\n",
            "  (3, 2)\t0.580285823684436\n",
            "  (3, 3)\t0.3840852409148149\n",
            "  (3, 6)\t0.3840852409148149\n",
            "  (3, 8)\t0.3840852409148149\n"
          ],
          "name": "stdout"
        }
      ]
    },
    {
      "cell_type": "code",
      "metadata": {
        "colab": {
          "base_uri": "https://localhost:8080/"
        },
        "id": "2Djn6XMaZR0b",
        "outputId": "b04d78ef-a48c-42d6-e1c4-ddce0a3ca0cb"
      },
      "source": [
        "#applying fit and transform from sklearn and comparing with our custom code's output\n",
        "from sklearn.feature_extraction.text import TfidfVectorizer\n",
        "vectorizer = TfidfVectorizer()\n",
        "vectorizer.fit(corpus)\n",
        "skl_output = vectorizer.transform(corpus)\n",
        "print(skl_output)"
      ],
      "execution_count": 8,
      "outputs": [
        {
          "output_type": "stream",
          "text": [
            "  (0, 8)\t0.38408524091481483\n",
            "  (0, 6)\t0.38408524091481483\n",
            "  (0, 3)\t0.38408524091481483\n",
            "  (0, 2)\t0.5802858236844359\n",
            "  (0, 1)\t0.46979138557992045\n",
            "  (1, 8)\t0.281088674033753\n",
            "  (1, 6)\t0.281088674033753\n",
            "  (1, 5)\t0.5386476208856763\n",
            "  (1, 3)\t0.281088674033753\n",
            "  (1, 1)\t0.6876235979836938\n",
            "  (2, 8)\t0.267103787642168\n",
            "  (2, 7)\t0.511848512707169\n",
            "  (2, 6)\t0.267103787642168\n",
            "  (2, 4)\t0.511848512707169\n",
            "  (2, 3)\t0.267103787642168\n",
            "  (2, 0)\t0.511848512707169\n",
            "  (3, 8)\t0.38408524091481483\n",
            "  (3, 6)\t0.38408524091481483\n",
            "  (3, 3)\t0.38408524091481483\n",
            "  (3, 2)\t0.5802858236844359\n",
            "  (3, 1)\t0.46979138557992045\n"
          ],
          "name": "stdout"
        }
      ]
    }
  ]
}